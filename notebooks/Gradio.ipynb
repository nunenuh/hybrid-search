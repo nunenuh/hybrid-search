{
 "cells": [
  {
   "cell_type": "code",
   "execution_count": 7,
   "metadata": {},
   "outputs": [
    {
     "name": "stderr",
     "output_type": "stream",
     "text": [
      "/home/nunenuh/works/nunenuh/hybrid-search/.venv/lib/python3.10/site-packages/huggingface_hub/file_download.py:1132: FutureWarning: `resume_download` is deprecated and will be removed in version 1.0.0. Downloads always resume when possible. If you want to force a new download, use `force_download=True`.\n",
      "  warnings.warn(\n"
     ]
    },
    {
     "name": "stdout",
     "output_type": "stream",
     "text": [
      "Running on local URL:  http://127.0.0.1:7863\n",
      "\n",
      "To create a public link, set `share=True` in `launch()`.\n"
     ]
    },
    {
     "data": {
      "text/html": [
       "<div><iframe src=\"http://127.0.0.1:7863/\" width=\"100%\" height=\"500\" allow=\"autoplay; camera; microphone; clipboard-read; clipboard-write;\" frameborder=\"0\" allowfullscreen></iframe></div>"
      ],
      "text/plain": [
       "<IPython.core.display.HTML object>"
      ]
     },
     "metadata": {},
     "output_type": "display_data"
    },
    {
     "data": {
      "text/plain": []
     },
     "execution_count": 7,
     "metadata": {},
     "output_type": "execute_result"
    }
   ],
   "source": [
    "import os\n",
    "import sys\n",
    "\n",
    "module_path = os.path.join(os.getcwd(), '../', 'src')\n",
    "if module_path not in sys.path:\n",
    "    sys.path.append(module_path)\n",
    "    \n",
    "import gradio as gr\n",
    "import pandas as pd\n",
    "from hybrid_search.mapper import DictMapper\n",
    "from hybrid_search.search import HybridSearch\n",
    "\n",
    "file_path = '../data/finance_template_map.xlsx'\n",
    "sheet_name = 'Income Statement'\n",
    "dmap = DictMapper(file_path, sheet_name)\n",
    "\n",
    "target_column = 'C'\n",
    "base_source_columns = ['F','G']\n",
    "test_source_columns = ['H','I','J']\n",
    "\n",
    "base_mapping = dmap.create_mapping_dict(base_source_columns, target_column)\n",
    "test_mapping = dmap.create_mapping_dict(test_source_columns, target_column)\n",
    "\n",
    "sbert_model_name = \"uonyeka/bge-base-financial-matryoshka\"\n",
    "engine = HybridSearch(base_mapping, transformer_model=sbert_model_name)\n",
    "\n",
    "\n",
    "# Function to perform hybrid search and return results in a DataFrame\n",
    "def hybrid_search_and_evaluate(search):\n",
    "    # Perform search\n",
    "    results = engine.hybrid_search(search, top_n=5)\n",
    "\n",
    "    # Create a DataFrame to display results\n",
    "    df_results = pd.DataFrame(results)\n",
    "\n",
    "    return df_results\n",
    "\n",
    "\n",
    "# Create Gradio interface\n",
    "iface = gr.Interface(fn=hybrid_search_and_evaluate,\n",
    "                     inputs=\"text\",\n",
    "                     outputs=\"dataframe\",\n",
    "                     title=\"Hybrid Search and Evaluation\",\n",
    "                     description=\"Enter a query to perform hybrid search and see the top 5 results.\")\n",
    "\n",
    "# Launch the interface\n",
    "iface.launch()\n"
   ]
  }
 ],
 "metadata": {
  "interpreter": {
   "hash": "2b861c074d615435beae3fed33c5536135f6bfe225ba7aef90a9054278bec251"
  },
  "kernelspec": {
   "display_name": "Python 3.10.12 ('.venv': venv)",
   "language": "python",
   "name": "python3"
  },
  "language_info": {
   "codemirror_mode": {
    "name": "ipython",
    "version": 3
   },
   "file_extension": ".py",
   "mimetype": "text/x-python",
   "name": "python",
   "nbconvert_exporter": "python",
   "pygments_lexer": "ipython3",
   "version": "3.10.12"
  },
  "orig_nbformat": 4
 },
 "nbformat": 4,
 "nbformat_minor": 2
}
